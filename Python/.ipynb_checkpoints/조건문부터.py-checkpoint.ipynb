{
 "cells": [
  {
   "cell_type": "markdown",
   "metadata": {},
   "source": [
    "조건문\n",
    "-True or False 값을 판단! \n",
    "-크냐, 작느냐, 같으냐 \n",
    "    - 조건/비교 연산자\n",
    "    - <, >. <=, >=, ==, != "
   ]
  },
  {
   "cell_type": "code",
   "execution_count": 3,
   "metadata": {},
   "outputs": [
    {
     "name": "stdout",
     "output_type": "stream",
     "text": [
      "숫자  : 4\n",
      "숫자  : 5\n",
      "b가 a보다 크다\n"
     ]
    }
   ],
   "source": [
    "a = int(input(\"숫자  : \"))\n",
    "b = int(input(\"숫자  : \"))\n",
    "if a > b:\n",
    "    print(\"a가 b보다 크다\")\n",
    "\n",
    "elif a == b :\n",
    "    print(\"a와 b가 같다\")\n",
    "    \n",
    "else :\n",
    "    print(\"b가 a보다 크다\")"
   ]
  },
  {
   "cell_type": "markdown",
   "metadata": {},
   "source": [
    "논리 연산자 : and, or, not"
   ]
  },
  {
   "cell_type": "code",
   "execution_count": 7,
   "metadata": {},
   "outputs": [
    {
     "name": "stdout",
     "output_type": "stream",
     "text": [
      "숫자를 입력 : 0\n",
      "a는 0\n"
     ]
    }
   ],
   "source": [
    "a = int(input(\"숫자를 입력 : \"))\n",
    "if a > 0 :\n",
    "    print(\"a는 양수\")\n",
    "elif a == 0:\n",
    "    print(\"a는 0\")\n",
    "    \n",
    "else : \n",
    "    print(\"a는 음수\")"
   ]
  },
  {
   "cell_type": "code",
   "execution_count": null,
   "metadata": {},
   "outputs": [],
   "source": []
  },
  {
   "cell_type": "code",
   "execution_count": null,
   "metadata": {},
   "outputs": [],
   "source": []
  },
  {
   "cell_type": "code",
   "execution_count": null,
   "metadata": {},
   "outputs": [],
   "source": []
  },
  {
   "cell_type": "code",
   "execution_count": null,
   "metadata": {},
   "outputs": [],
   "source": []
  },
  {
   "cell_type": "code",
   "execution_count": null,
   "metadata": {},
   "outputs": [],
   "source": []
  },
  {
   "cell_type": "code",
   "execution_count": null,
   "metadata": {},
   "outputs": [],
   "source": []
  },
  {
   "cell_type": "code",
   "execution_count": null,
   "metadata": {},
   "outputs": [],
   "source": []
  }
 ],
 "metadata": {
  "kernelspec": {
   "display_name": "Python 3",
   "language": "python",
   "name": "python3"
  },
  "language_info": {
   "codemirror_mode": {
    "name": "ipython",
    "version": 3
   },
   "file_extension": ".py",
   "mimetype": "text/x-python",
   "name": "python",
   "nbconvert_exporter": "python",
   "pygments_lexer": "ipython3",
   "version": "3.8.5"
  }
 },
 "nbformat": 4,
 "nbformat_minor": 4
}
